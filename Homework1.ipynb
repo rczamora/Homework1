{
 "cells": [
  {
   "cell_type": "markdown",
   "id": "bca24016",
   "metadata": {},
   "source": [
    "# Homework One:\n",
    "\n"
   ]
  },
  {
   "cell_type": "markdown",
   "id": "f7fd4c2d",
   "metadata": {},
   "source": [
    "## Part I: Github link.\n",
    "### Instructor's github: github.com/CinderZhang\n",
    "### My github: "
   ]
  },
  {
   "cell_type": "markdown",
   "id": "35b49280",
   "metadata": {},
   "source": [
    "## Part II: Download Data\n"
   ]
  },
  {
   "cell_type": "code",
   "execution_count": 1,
   "id": "84b32b5f",
   "metadata": {},
   "outputs": [],
   "source": [
    "# the following cells download stock price data from (source--Yahoo Finance, WRDS or other sites)\n",
    "## 3 Tickers (for example, AAPL, ZM, and WMT)"
   ]
  },
  {
   "cell_type": "code",
   "execution_count": 2,
   "id": "fb757dcf",
   "metadata": {},
   "outputs": [],
   "source": [
    "# the following cells download stock price data from another source (source--Yahoo Finance, WRDS or other sites)\n",
    "## 3 Tickers (for example, AAPL, ZM, and WMT)"
   ]
  },
  {
   "cell_type": "markdown",
   "id": "7f9c42b1",
   "metadata": {},
   "source": [
    "## Part III: Compare Data\n"
   ]
  },
  {
   "cell_type": "code",
   "execution_count": null,
   "id": "88dcb80f",
   "metadata": {},
   "outputs": [],
   "source": [
    "# the following cells compare the close price data from different data sources.\n",
    "## My observation is that the data is the same/not the same. \n",
    "## The reseason for that is...\n"
   ]
  }
 ],
 "metadata": {
  "kernelspec": {
   "display_name": "Python 3",
   "language": "python",
   "name": "python3"
  },
  "language_info": {
   "codemirror_mode": {
    "name": "ipython",
    "version": 3
   },
   "file_extension": ".py",
   "mimetype": "text/x-python",
   "name": "python",
   "nbconvert_exporter": "python",
   "pygments_lexer": "ipython3",
   "version": "3.8.8"
  }
 },
 "nbformat": 4,
 "nbformat_minor": 5
}
